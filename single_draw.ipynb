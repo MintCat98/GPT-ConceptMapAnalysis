{
 "cells": [
  {
   "cell_type": "markdown",
   "metadata": {},
   "source": [
    "# Single Graph Drawing"
   ]
  },
  {
   "cell_type": "markdown",
   "metadata": {},
   "source": [
    "#### Load packages"
   ]
  },
  {
   "cell_type": "code",
   "execution_count": 1,
   "metadata": {},
   "outputs": [],
   "source": [
    "import networkx as nx\n",
    "import pandas as pd\n",
    "import matplotlib.pyplot as plt"
   ]
  },
  {
   "cell_type": "markdown",
   "metadata": {},
   "source": [
    "#### Load data"
   ]
  },
  {
   "cell_type": "code",
   "execution_count": 2,
   "metadata": {},
   "outputs": [],
   "source": [
    "# This is a sampling for entire analysis\n",
    "data_astronomy1 = pd.read_excel('data/Astronomy.xlsx', sheet_name='강민철')\n",
    "data_astronomy2 = pd.read_excel('data/Astronomy.xlsx', sheet_name='강지헌')\n",
    "\n",
    "# Drop an useless column\n",
    "data_astronomy1.drop('Name', axis=1, inplace=True)\n",
    "data_astronomy2.drop('Name', axis=1, inplace=True)\n",
    "\n",
    "# Merge all dataframes into one dataframe:\n",
    "data_astronomy = pd.concat([data_astronomy1, data_astronomy2], axis=0)\n",
    "data_astronomy.drop(data_astronomy.loc[data_astronomy['ID'] == 53].index[0], inplace=True)\n",
    "# data_astronomy"
   ]
  },
  {
   "cell_type": "code",
   "execution_count": 3,
   "metadata": {},
   "outputs": [],
   "source": [
    "data_sampling1 = pd.read_excel('data/Sampling.xlsx', sheet_name='강지헌')\n",
    "data_sampling2 = pd.read_excel('data/Sampling.xlsx', sheet_name='신아현')\n",
    "data_sampling3 = pd.read_excel('data/Sampling.xlsx', sheet_name='신수연')\n",
    "\n",
    "data_sampling1.drop('Name', axis=1, inplace=True)\n",
    "data_sampling2.drop('Name', axis=1, inplace=True)\n",
    "data_sampling3.drop('Name', axis=1, inplace=True)\n",
    "\n",
    "data_sampling = pd.concat([data_sampling1, data_sampling2, data_sampling3], axis=0)\n",
    "# data_sampling"
   ]
  },
  {
   "cell_type": "code",
   "execution_count": 4,
   "metadata": {},
   "outputs": [],
   "source": [
    "data_database1 = pd.read_excel('data/Database.xlsx', sheet_name='신수연')\n",
    "data_database2 = pd.read_excel('data/Database.xlsx', sheet_name='양연선')\n",
    "data_database3 = pd.read_excel('data/Database.xlsx', sheet_name='김나영')\n",
    "\n",
    "data_database1.drop('Name', axis=1, inplace=True)\n",
    "data_database2.drop('Name', axis=1, inplace=True)\n",
    "data_database3.drop('Name', axis=1, inplace=True)\n",
    "\n",
    "data_database = pd.concat([data_database1, data_database2, data_database3], axis=0)\n",
    "# data_database"
   ]
  },
  {
   "cell_type": "markdown",
   "metadata": {},
   "source": [
    "#### Process graphs\n",
    "- 이름 형식: `<Domain>_<Modality>_<ID>`\n",
    "- Domain: `ASTRONOMY`, `SAMPLING`, `DATABASE`"
   ]
  },
  {
   "cell_type": "code",
   "execution_count": 5,
   "metadata": {},
   "outputs": [],
   "source": [
    "graphs_astronomy = {}\n",
    "\n",
    "for id, sub_df in data_astronomy.groupby('ID'):\n",
    "    # New graph object\n",
    "    graph_name = f\"Astronomy_{sub_df['Mod.'].iloc[0]}_{sub_df['ID'].iloc[0]}\"\n",
    "    G = nx.DiGraph()\n",
    "    \n",
    "    # Add nodes and edges\n",
    "    for _, row in sub_df.iterrows():\n",
    "        start_node = row['Start']\n",
    "        if pd.notna(row['End']):\n",
    "            end_nodes = [end_node.rstrip() for end_node in row['End'].split(',')]\n",
    "            for end_node in end_nodes:\n",
    "                G.add_edge(start_node, end_node)\n",
    "        # Add p.knowledge labels:  O -> 1(true)  |  X -> 0(false)\n",
    "        try:\n",
    "            G.nodes[start_node]['P.Knowledge'] = 1 if row['P.Knowledge'] == 'O' else 0\n",
    "        except KeyError:\n",
    "            G.add_node(start_node)\n",
    "            G.nodes[start_node]['P.Knowledge'] = 0\n",
    "    \n",
    "    # Save the graph\n",
    "    graphs_astronomy[graph_name] = G"
   ]
  },
  {
   "cell_type": "code",
   "execution_count": 6,
   "metadata": {},
   "outputs": [],
   "source": [
    "graphs_sampling = {}\n",
    "\n",
    "for id, sub_df in data_sampling.groupby('ID'):\n",
    "    # New graph object\n",
    "    graph_name = f\"Sampling_{sub_df['Mod.'].iloc[0]}_{sub_df['ID'].iloc[0]}\"\n",
    "    G = nx.DiGraph()\n",
    "    \n",
    "    # Add nodes and edges\n",
    "    for _, row in sub_df.iterrows():\n",
    "        start_node = row['Start']\n",
    "        if pd.notna(row['End']):\n",
    "            end_nodes = [end_node.rstrip() for end_node in row['End'].split(',')]\n",
    "            for end_node in end_nodes:\n",
    "                G.add_edge(start_node, end_node)\n",
    "        # Add p.knowledge labels:  O -> 1(true)  |  X -> 0(false)\n",
    "        try:\n",
    "            G.nodes[start_node]['P.Knowledge'] = 1 if row['P.Knowledge'] == 'O' else 0\n",
    "        except KeyError:\n",
    "            G.add_node(start_node)\n",
    "            G.nodes[start_node]['P.Knowledge'] = 0\n",
    "    \n",
    "    # Save the graph\n",
    "    graphs_sampling[graph_name] = G"
   ]
  },
  {
   "cell_type": "code",
   "execution_count": 7,
   "metadata": {},
   "outputs": [],
   "source": [
    "graphs_database = {}\n",
    "\n",
    "for id, sub_df in data_database.groupby('ID'):\n",
    "    # New graph object\n",
    "    graph_name = f\"Database_{sub_df['Mod.'].iloc[0]}_{sub_df['ID'].iloc[0]}\"\n",
    "    G = nx.DiGraph()\n",
    "    \n",
    "    # Add nodes and edges\n",
    "    for _, row in sub_df.iterrows():\n",
    "        start_node = row['Start']\n",
    "        if pd.notna(row['End']):\n",
    "            end_nodes = [end_node.rstrip() for end_node in row['End'].split(',')]\n",
    "            for end_node in end_nodes:\n",
    "                G.add_edge(start_node, end_node)\n",
    "        # Add p.knowledge labels:  O -> 1(true)  |  X -> 0(false)\n",
    "        try:\n",
    "            G.nodes[start_node]['P.Knowledge'] = 1 if row['P.Knowledge'] == 'O' else 0\n",
    "        except KeyError:\n",
    "            G.add_node(start_node)\n",
    "            G.nodes[start_node]['P.Knowledge'] = 0\n",
    "    \n",
    "    # Save the graph\n",
    "    graphs_database[graph_name] = G"
   ]
  },
  {
   "cell_type": "markdown",
   "metadata": {},
   "source": [
    "#### Draw graphs"
   ]
  },
  {
   "cell_type": "code",
   "execution_count": 8,
   "metadata": {},
   "outputs": [],
   "source": [
    "# Set Korean font\n",
    "import matplotlib.font_manager as fm \n",
    "from matplotlib import rc\n",
    "font_name = fm.FontProperties(fname=\"c:/Windows/Fonts/malgun.ttf\").get_name()\n",
    "rc('font', family=font_name)\n",
    "\n",
    "# Drawing method\n",
    "def draw_graph(graph_dict: dict, selected_graph: str=None, pos_function=nx.spring_layout):\n",
    "    \"\"\"This function is used to draw the graph from the `graph_dict`\n",
    "\n",
    "    Args:\n",
    "        graph_dict (`dict`): A processed graph dictionary\n",
    "        selected_graph (`str`, optional): The name of the graph to be drawn. Defaults to None. \n",
    "                                          If None, it will draw all graphs in the dictionary.\n",
    "        pos_function (`function`, optional): A networkx layout function to calculate node positions. \n",
    "                                             Defaults to `nx.spring_layout`.\n",
    "    \"\"\"\n",
    "    for graph_name, G in graph_dict.items():\n",
    "        if selected_graph is not None and graph_name != selected_graph:\n",
    "            continue\n",
    "        \n",
    "        pos = pos_function(G)\n",
    "        # labels = {node: f\"{node} ({G.nodes[node].get('P.Knowledge', 'N/A')})\" for node in G.nodes()}\n",
    "        plt.figure(figsize=(10, 7))\n",
    "        nx.draw(G, pos, with_labels=False, node_size=50, node_color=\"blue\", edge_color=\"gray\", alpha=0.7) # You can add `labels=labels` and `font_family=font_name`.\n",
    "        plt.title(f\"{graph_name}\")\n",
    "        plt.show()\n",
    "        \n",
    "        if selected_graph is not None:\n",
    "            break\n",
    "\n",
    "    plt.close()\n",
    "\n",
    "def save_graph(graph_dict: dict, selected_graph: str=None, pos_function=nx.spring_layout):\n",
    "    \"\"\"This function is used to draw and save the graph from the `graph_dict`.\n",
    "\n",
    "    Args:\n",
    "        graph_dict (`dict`): A processed graph dictionary.\n",
    "        selected_graph (`str`, optional): The name of the graph to be drawn. Defaults to None. \n",
    "                                          If None, it will draw all graphs in the dictionary.\n",
    "        pos_function (`function`, optional): A networkx layout function to calculate node positions. \n",
    "                                             Defaults to `nx.spring_layout`.\n",
    "        save_path (`str`, optional): The directory where the images will be saved. Defaults to './'.\n",
    "        image_format (`str`, optional): The format of the image to be saved (e.g., 'png', 'jpg'). Defaults to 'png'.\n",
    "    \"\"\"\n",
    "    for graph_name, G in graph_dict.items():\n",
    "        if selected_graph is not None and graph_name != selected_graph:\n",
    "            continue\n",
    "        \n",
    "        pos = pos_function(G)\n",
    "        plt.figure(figsize=(10, 7))\n",
    "        nx.draw(G, pos, with_labels=False, node_size=50, node_color=\"blue\", edge_color=\"gray\", alpha=0.7)\n",
    "        plt.title(f\"{graph_name}\")\n",
    "        \n",
    "        # Save the graph as an image file\n",
    "        save_file = f\"graphs/{selected_graph}.png\"\n",
    "        plt.savefig(save_file, format=\"png\")\n",
    "        plt.close()  # Close the plot to free memory\n",
    "        \n",
    "        if selected_graph is not None:\n",
    "            break"
   ]
  },
  {
   "cell_type": "code",
   "execution_count": 9,
   "metadata": {},
   "outputs": [],
   "source": [
    "# draw_graph(graphs_astronomy)  # Draw all graphs"
   ]
  },
  {
   "cell_type": "code",
   "execution_count": 10,
   "metadata": {},
   "outputs": [],
   "source": [
    "# draw_graph(graphs_sampling)   # Draw all graphs"
   ]
  },
  {
   "cell_type": "code",
   "execution_count": 11,
   "metadata": {},
   "outputs": [],
   "source": [
    "# draw_graph(graphs_database)   # Draw all graphs"
   ]
  },
  {
   "cell_type": "markdown",
   "metadata": {},
   "source": [
    "#### A high-score student and a low-score student"
   ]
  },
  {
   "cell_type": "code",
   "execution_count": 12,
   "metadata": {},
   "outputs": [],
   "source": [
    "# Astronomy\n",
    "from matplotlib.pylab import f\n",
    "\n",
    "\n",
    "lst_astrom = [\n",
    "    \"Astronomy_GPT_18\",\n",
    "    \"Astronomy_GPT_23\",\n",
    "    \"Astronomy_GPT_28\",\n",
    "    \"Astronomy_GPT_47\",\n",
    "    \"Astronomy_Book_48\",\n",
    "    \"Astronomy_Book_50\",\n",
    "    \"Astronomy_Web_59\",\n",
    "    \"Astronomy_Book_65\",\n",
    "    \"Astronomy_Book_66\",\n",
    "    \"Astronomy_Book_70\",\n",
    "    \"Astronomy_Book_74\",\n",
    "    \"Astronomy_Web_77\",\n",
    "    \"Astronomy_Web_80\",\n",
    "    \"Astronomy_Web_85\"\n",
    "    ]\n",
    "\n",
    "for e in lst_astrom:\n",
    "    save_graph(graphs_astronomy, e, nx.kamada_kawai_layout)\n",
    "\n",
    "# Sampling\n",
    "lst_sampling = [\n",
    "    \"Sampling_Book_18\",\n",
    "    \"Sampling_Book_23\",\n",
    "    \"Sampling_Book_28\",\n",
    "    \"Sampling_Book_47\",\n",
    "    \"Sampling_Web_48\",\n",
    "    \"Sampling_Web_50\",\n",
    "    \"Sampling_Web_53\",\n",
    "    \"Sampling_Web_59\",\n",
    "    \"Sampling_Web_65\",\n",
    "    \"Sampling_Web_66\",\n",
    "    \"Sampling_GPT_70\",\n",
    "    \"Sampling_GPT_74\",\n",
    "    \"Sampling_GPT_77\",\n",
    "    \"Sampling_Web_80\",\n",
    "    \"Sampling_Book_85\"\n",
    "]\n",
    "\n",
    "for e in lst_sampling:\n",
    "    save_graph(graphs_sampling, e, nx.kamada_kawai_layout)\n",
    "\n",
    "# Database\n",
    "lst_database = [\n",
    "    \"Database_Web_18\",\n",
    "    \"Database_Web_23\",\n",
    "    \"Database_Web_28\",\n",
    "    \"Database_Web_47\",\n",
    "    \"Database_GPT_48\",\n",
    "    \"Database_GPT_50\",\n",
    "    \"Database_GPT_53\",\n",
    "    \"Database_Book_59\",\n",
    "    \"Database_GPT_65\",\n",
    "    \"Database_GPT_66\",\n",
    "    \"Database_Book_70\",\n",
    "    \"Database_Book_74\",\n",
    "    \"Database_Book_77\",\n",
    "    \"Database_GPT_80\",\n",
    "    \"Database_Web_85\"\n",
    "]\n",
    "\n",
    "for e in lst_database:\n",
    "    save_graph(graphs_database, e, nx.kamada_kawai_layout)"
   ]
  }
 ],
 "metadata": {
  "kernelspec": {
   "display_name": "Pytorch",
   "language": "python",
   "name": "python3"
  },
  "language_info": {
   "codemirror_mode": {
    "name": "ipython",
    "version": 3
   },
   "file_extension": ".py",
   "mimetype": "text/x-python",
   "name": "python",
   "nbconvert_exporter": "python",
   "pygments_lexer": "ipython3",
   "version": "3.11.9"
  }
 },
 "nbformat": 4,
 "nbformat_minor": 2
}
